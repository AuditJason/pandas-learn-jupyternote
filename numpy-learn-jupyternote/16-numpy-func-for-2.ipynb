{
 "cells": [
  {
   "cell_type": "markdown",
   "id": "6911a261",
   "metadata": {},
   "source": [
    "## numpy函数的讲解-二元函数\n",
    "\n",
    "numpy函数分为一元函数、二元函数和聚合函数。"
   ]
  },
  {
   "cell_type": "markdown",
   "id": "343ed4d1",
   "metadata": {},
   "source": [
    "2. 二元函数在使用时除了传递数组，还需要传递其他参数。\n",
    "\n",
    " * 二元函数都是表示一些两组数据之间运算的函数。\n",
    " * 数学运算符本质上是这些函数的语法糖。\n",
    " * 理解二元函数需要结合numpy的广播特性"
   ]
  },
  {
   "cell_type": "markdown",
   "id": "a510dc73",
   "metadata": {},
   "source": [
    "|序号|  函数   | | 描述  |\n",
    "|:----:|  :----  | | ----:  |\n",
    "|1| np.add  | | 加法运算(2+3=5)，两个数组相加，相当于运算符+ |\n",
    "|2| np.subtrsct |  | 减法运算(6-3=3)：相当于运算符- |\n",
    "|3| np.negative |  | 求负数运算(2->-2)，相当于加个- |\n",
    "|4| np.multiply |  | 乘法运算(2\\*3=6) ，相当于运算符*|\n",
    "|5|np.divide |  | 除法运算(6/3=2),相当于运算符/ |\n",
    "|6| np.divide_floor |  | 相当于// |\n",
    "|7| np.greater/...... |  | 获取大于某数的数据，相当于>,<,>=,<=,!=的函数表达式 |\n",
    "|8| np.logic_and |  | &的函数表达式 |\n",
    "|9| np.logic_or |  | \\|的函数表达式 |"
   ]
  },
  {
   "cell_type": "code",
   "execution_count": 1,
   "id": "f583c81e",
   "metadata": {},
   "outputs": [],
   "source": [
    "import numpy as np"
   ]
  },
  {
   "cell_type": "code",
   "execution_count": 5,
   "id": "17dc5f33",
   "metadata": {},
   "outputs": [
    {
     "name": "stdout",
     "output_type": "stream",
     "text": [
      "[[2 1 7 8 0]\n",
      " [0 1 3 3 4]\n",
      " [6 2 8 1 0]]\n",
      "********************\n",
      "[[2 5 3 3 1]\n",
      " [8 5 1 3 1]\n",
      " [1 3 2 6 0]]\n"
     ]
    }
   ],
   "source": [
    "d1=np.random.randint(0,9,size=(3,5))\n",
    "print(d1)\n",
    "print('*'*20)\n",
    "d2=np.random.randint(0,9,size=(3,5))\n",
    "print(d2)"
   ]
  },
  {
   "cell_type": "code",
   "execution_count": 11,
   "id": "4d288257",
   "metadata": {},
   "outputs": [
    {
     "name": "stdout",
     "output_type": "stream",
     "text": [
      "[[ 4  6 10 11  1]\n",
      " [ 8  6  4  6  5]\n",
      " [ 7  5 10  7  0]]\n",
      "********************\n",
      "[[ 4  6 10 11  1]\n",
      " [ 8  6  4  6  5]\n",
      " [ 7  5 10  7  0]]\n"
     ]
    }
   ],
   "source": [
    "#np.add相当于两个数组的+\n",
    "print(np.add(d1,d2))\n",
    "print('*'*20)\n",
    "print(d1+d2)"
   ]
  },
  {
   "cell_type": "code",
   "execution_count": 13,
   "id": "34fe34af",
   "metadata": {},
   "outputs": [
    {
     "name": "stdout",
     "output_type": "stream",
     "text": [
      "[[ 4  3  9 10  2]\n",
      " [ 2  3  5  5  6]\n",
      " [ 8  4 10  3  2]]\n",
      "********************\n",
      "[[ 4  3  9 10  2]\n",
      " [ 2  3  5  5  6]\n",
      " [ 8  4 10  3  2]]\n"
     ]
    }
   ],
   "source": [
    "#可以使用数组加常数的方法进行，此时同数组广播的方法一致。\n",
    "print(np.add(d1,2))\n",
    "print('*'*20)\n",
    "print(d1+2)"
   ]
  },
  {
   "cell_type": "code",
   "execution_count": 16,
   "id": "db9c788c",
   "metadata": {},
   "outputs": [
    {
     "name": "stdout",
     "output_type": "stream",
     "text": [
      "[[2 1 7 8 0]\n",
      " [0 1 3 3 4]\n",
      " [6 2 8 1 0]]\n",
      "********************\n",
      "[7 8 4 6 8]\n",
      "********************\n",
      "[7 8 4 6 8]\n"
     ]
    }
   ],
   "source": [
    "#np.greater(),>操作符\n",
    "#实际上操作符和操作符函数通用，一般使用操作符比较简洁\n",
    "print(d1)\n",
    "print('*'*20)\n",
    "print(d1[d1>3])\n",
    "print('*'*20)\n",
    "print(d1[np.greater(d1,3)])"
   ]
  }
 ],
 "metadata": {
  "kernelspec": {
   "display_name": "Python 3 (ipykernel)",
   "language": "python",
   "name": "python3"
  },
  "language_info": {
   "codemirror_mode": {
    "name": "ipython",
    "version": 3
   },
   "file_extension": ".py",
   "mimetype": "text/x-python",
   "name": "python",
   "nbconvert_exporter": "python",
   "pygments_lexer": "ipython3",
   "version": "3.8.10"
  }
 },
 "nbformat": 4,
 "nbformat_minor": 5
}
