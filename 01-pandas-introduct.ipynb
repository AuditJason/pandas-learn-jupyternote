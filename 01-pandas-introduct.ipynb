{
 "cells": [
  {
   "cell_type": "markdown",
   "id": "4121e144",
   "metadata": {},
   "source": [
    "## pandas介绍"
   ]
  },
  {
   "cell_type": "markdown",
   "id": "2c84ef97",
   "metadata": {},
   "source": [
    "1. numpy能够帮助我们处理数值型数据，包括以下的主要方法：\n",
    "\n",
    " * 高级特性，广播功能对不同线形状的数据计算\n",
    " * 依托c语言底层计算模块提升速度\n",
    " * 优化计算过程\n",
    " * 同时numpy能够集合matplotlib进行绘图\n",
    "\n",
    "但是存在以下缺点：\n",
    "* numpy对除数值型数据之外的数据支持不够，如文本数据和时间序列数据"
   ]
  },
  {
   "cell_type": "markdown",
   "id": "15c8cf8a",
   "metadata": {},
   "source": [
    "2. pandas的特点\n",
    "\n",
    "pandas是一个强大的分析结构化数据的工具集，基于numpy构建，提供了：\n",
    "\n",
    "* 高级数据结构\n",
    "* 操作数据工具\n",
    "\n",
    "优点：\n",
    "\n",
    "* 基于numpy构建，运算速度快,提供高性能的矩阵运算\n",
    "* 提供了大量的便捷使用的函数和方法\n",
    "* 应用数据挖掘和数据分析\n",
    "\n",
    "pandas相当于python版本的excel表格。"
   ]
  },
  {
   "cell_type": "markdown",
   "id": "aecae29a",
   "metadata": {},
   "source": [
    "3. pandas的安装:\n",
    "\n",
    "pip install pandas\n",
    "\n",
    "验证是否安装成功，进入python环境后，导入pandas，看是否成功"
   ]
  },
  {
   "cell_type": "code",
   "execution_count": 2,
   "id": "01b0b53a",
   "metadata": {},
   "outputs": [],
   "source": [
    "import pandas as pd"
   ]
  },
  {
   "cell_type": "code",
   "execution_count": 3,
   "id": "cc1ec685",
   "metadata": {},
   "outputs": [
    {
     "data": {
      "text/plain": [
       "0    1\n",
       "1    2\n",
       "2    3\n",
       "dtype: int64"
      ]
     },
     "execution_count": 3,
     "metadata": {},
     "output_type": "execute_result"
    }
   ],
   "source": [
    "si = pd.Series([1,2,3])\n",
    "si"
   ]
  }
 ],
 "metadata": {
  "kernelspec": {
   "display_name": "Python 3 (ipykernel)",
   "language": "python",
   "name": "python3"
  },
  "language_info": {
   "codemirror_mode": {
    "name": "ipython",
    "version": 3
   },
   "file_extension": ".py",
   "mimetype": "text/x-python",
   "name": "python",
   "nbconvert_exporter": "python",
   "pygments_lexer": "ipython3",
   "version": "3.8.10"
  }
 },
 "nbformat": 4,
 "nbformat_minor": 5
}
